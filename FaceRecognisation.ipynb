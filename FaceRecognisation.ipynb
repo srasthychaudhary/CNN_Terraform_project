{
 "cells": [
  {
   "cell_type": "code",
   "execution_count": null,
   "metadata": {},
   "outputs": [],
   "source": [
    "import cv2\n",
    "model_har = cv2.CascadeClassifier('haarcascade_frontalface_default.xml') #loading haarcascade model : used for detect human face\n",
    "# defining function for crop the face\n",
    "# If no face detected, it returns NONE\n",
    "def cropface(img):\n",
    "    #detecting the face\n",
    "    faces = model_har.detectMultiScale(img,1.3,5)\n",
    "    \n",
    "    if faces is ():\n",
    "        return None\n",
    "    \n",
    "    # Crop faces found\n",
    "    for (x,y,w,h) in faces:\n",
    "        cropped_face = img[y:y+h, x:x+w]\n",
    "        \n",
    "# Initialize Webcam\n",
    "cap = cv2.VideoCapture(0)\n",
    "count = 0\n",
    "\n",
    "# Collecting 100 samples of my face from webcam input\n",
    "while True:\n",
    "    #reading image\n",
    "    ret, frame = cap.read()\n",
    "    if cropface(frame) is not None:\n",
    "        count += 1\n",
    "        #resizing crop image\n",
    "        face = cv2.resize(cropface(frame), (200, 200))\n",
    "        #changing color of image to grey\n",
    "        face = cv2.cvtColor(face, cv2.COLOR_BGR2GRAY)\n",
    "\n",
    "        # Save file in specified Srasthydirectory with unique name\n",
    "        file_path = './pic' + str(count) + '.jpg'\n",
    "        cv2.imwrite(file_path, face)\n",
    "\n",
    "        # Put count on images and displaying live count\n",
    "        cv2.putText(face, str(count), (50, 50), cv2.FONT_HERSHEY_PLAIN, 1, (0,255,0), 2)\n",
    "        cv2.imshow('Face Cropper', face)\n",
    "        \n",
    "    else:\n",
    "        print(\"Face Pic Captured\")\n",
    "        pass\n",
    "\n",
    "    if cv2.waitKey(1) == 13 or count == 100: #13 is the Enter Key\n",
    "        break\n",
    "        \n",
    "cap.release()\n",
    "cv2.destroyAllWindows()"
   ]
  },
  {
   "cell_type": "code",
   "execution_count": null,
   "metadata": {},
   "outputs": [],
   "source": [
    "#Training model\n",
    "import numpy as np\n",
    "from os import listdir\n",
    "from os.path import isfile,join\n",
    "\n",
    "#getting data which previously made\n",
    "data_path = './pic'\n",
    "onlyfiles = [f for f in listdir(data_path) if isfile(join(data_path,f))]\n",
    "\n",
    "#Create arrays for training data and labels\n",
    "Training_Data , Lables = [],[]\n",
    "\n",
    "#open training images in our datapath\n",
    "#create a numpy array for training data\n",
    "\n",
    "for i,files in enumerate(onlyfiles):\n",
    "    image_path = data_path + onlyfiles[i]\n",
    "    images = cv2.imread(image_path,cv2.IMREAD_GRAYSCALE)\n",
    "    Training_Data.append(np.asarray(images,dtype=np.uint8))\n",
    "    Lables.append(i)\n",
    "    \n",
    "#create a numpy array for both training data and Labels\n",
    "Labels = np.asarray(Lables,dtype=np.int32)\n",
    "\n",
    "Srasthy_model  = cv2.face_LBPHFaceRecognizer.create()\n",
    "# Let's train our model \n",
    "Srasthy_model.train(np.asarray(Training_Data), np.asarray(Labels))\n",
    "\n",
    "print(\"Model trained successfully\")"
   ]
  },
  {
   "cell_type": "code",
   "execution_count": null,
   "metadata": {},
   "outputs": [],
   "source": [
    "#saving model\n",
    "Srasthy_model.save('./Srasthy_model.h5')"
   ]
  }
 ],
 "metadata": {
  "kernelspec": {
   "display_name": "Python 3",
   "language": "python",
   "name": "python3"
  },
  "language_info": {
   "codemirror_mode": {
    "name": "ipython",
    "version": 3
   },
   "file_extension": ".py",
   "mimetype": "text/x-python",
   "name": "python",
   "nbconvert_exporter": "python",
   "pygments_lexer": "ipython3",
   "version": "3.8.3"
  }
 },
 "nbformat": 4,
 "nbformat_minor": 4
}
